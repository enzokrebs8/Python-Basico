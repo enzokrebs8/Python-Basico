{
  "nbformat": 4,
  "nbformat_minor": 0,
  "metadata": {
    "colab": {
      "provenance": []
    },
    "kernelspec": {
      "name": "python3",
      "display_name": "Python 3"
    },
    "language_info": {
      "name": "python"
    }
  },
  "cells": [
    {
      "cell_type": "markdown",
      "source": [
        "1. Faça um algoritmo que escreva na tela os números de um número inicial a um número final. Os números inicial e final devem ser informados pelo usuário;\n",
        "  sei a quantidade"
      ],
      "metadata": {
        "id": "LsRhYiKIL-8h"
      }
    },
    {
      "cell_type": "code",
      "source": [
        "num1 = int(input(\"Digite o número inicial: \"))\n",
        "num2 = int(input(\"Digite o número final: \"))\n",
        "for contador in range(num1,num2):\n",
        "    print(contador)\n"
      ],
      "metadata": {
        "colab": {
          "base_uri": "https://localhost:8080/"
        },
        "id": "TkXrjEk4MY1G",
        "outputId": "2526e522-c768-45ff-e859-c0d337645178"
      },
      "execution_count": null,
      "outputs": [
        {
          "output_type": "stream",
          "name": "stdout",
          "text": [
            "Digite o número inicial: 1\n",
            "Digite o número final: 16\n",
            "1\n",
            "2\n",
            "3\n",
            "4\n",
            "5\n",
            "6\n",
            "7\n",
            "8\n",
            "9\n",
            "10\n",
            "11\n",
            "12\n",
            "13\n",
            "14\n",
            "15\n"
          ]
        }
      ]
    },
    {
      "cell_type": "markdown",
      "source": [
        "2.Escrever um algoritmo que imprima a tabuada de um número informado pelo usuário;"
      ],
      "metadata": {
        "id": "imSrCsvLMBUO"
      }
    },
    {
      "cell_type": "code",
      "source": [
        "numero = int(input(\"Informe um número para calcular a tabuada: \"))\n",
        "\n",
        "for i in range(0, 11):\n",
        "    resultado = numero * i\n",
        "    print(f\"{numero} x {i} = {resultado}\")"
      ],
      "metadata": {
        "colab": {
          "base_uri": "https://localhost:8080/"
        },
        "id": "cLQM4mQKT0Go",
        "outputId": "43b3098c-facc-47f0-8717-05743eac36bd"
      },
      "execution_count": null,
      "outputs": [
        {
          "output_type": "stream",
          "name": "stdout",
          "text": [
            "Informe um número para calcular a tabuada: 4\n",
            "4 x 0 = 0\n",
            "4 x 1 = 4\n",
            "4 x 2 = 8\n",
            "4 x 3 = 12\n",
            "4 x 4 = 16\n",
            "4 x 5 = 20\n",
            "4 x 6 = 24\n",
            "4 x 7 = 28\n",
            "4 x 8 = 32\n",
            "4 x 9 = 36\n",
            "4 x 10 = 40\n"
          ]
        }
      ]
    },
    {
      "cell_type": "markdown",
      "source": [
        "3.Escrever um algoritmo que gera e escreve os números ímpares entre 100 e 200;"
      ],
      "metadata": {
        "id": "ckEm5BD5MEJW"
      }
    },
    {
      "cell_type": "code",
      "source": [
        "for i in range(100,200):\n",
        "  if i % 2 == 1:\n",
        "    print(i)"
      ],
      "metadata": {
        "colab": {
          "base_uri": "https://localhost:8080/"
        },
        "id": "6WbYuLnJNGlI",
        "outputId": "f6bbc6e5-e84d-4402-962e-bbe89eb30d29"
      },
      "execution_count": null,
      "outputs": [
        {
          "output_type": "stream",
          "name": "stdout",
          "text": [
            "101\n",
            "103\n",
            "105\n",
            "107\n",
            "109\n",
            "111\n",
            "113\n",
            "115\n",
            "117\n",
            "119\n",
            "121\n",
            "123\n",
            "125\n",
            "127\n",
            "129\n",
            "131\n",
            "133\n",
            "135\n",
            "137\n",
            "139\n",
            "141\n",
            "143\n",
            "145\n",
            "147\n",
            "149\n",
            "151\n",
            "153\n",
            "155\n",
            "157\n",
            "159\n",
            "161\n",
            "163\n",
            "165\n",
            "167\n",
            "169\n",
            "171\n",
            "173\n",
            "175\n",
            "177\n",
            "179\n",
            "181\n",
            "183\n",
            "185\n",
            "187\n",
            "189\n",
            "191\n",
            "193\n",
            "195\n",
            "197\n",
            "199\n"
          ]
        }
      ]
    },
    {
      "cell_type": "markdown",
      "source": [
        "4. Faça um programa que solicite cod da conta(exemplo: 122345) e senha(exemplo: 1234), o programa deve verificar o usuário e senha e tentar até três vezes para receber a senha correta, caso contrario o cartão é cancelado se digitar errado 3 vezes."
      ],
      "metadata": {
        "id": "_Jf6xBtQMGim"
      }
    },
    {
      "cell_type": "code",
      "source": [
        "conta1 = {\"num\": 122345, \"senha\": 1234, \"status\": \"ativo\"}\n",
        "\n",
        "def verificar_senha(num, senha):\n",
        "    if num == conta1[\"num\"]:\n",
        "        if conta1[\"senha\"] == senha:\n",
        "            return True\n",
        "        else:\n",
        "            return False\n",
        "    else:\n",
        "        return False\n",
        "\n",
        "def tentar_login():\n",
        "    tentativas = 0\n",
        "    while tentativas < 3:\n",
        "        num = int(input(\"Digite o número da conta: \"))\n",
        "        senha = int(input(\"Digite a senha: \"))\n",
        "        if verificar_senha(num, senha):\n",
        "            print(\"Bem-vindo! Seu login foi realizado com êxito!.\")\n",
        "            break\n",
        "        else:\n",
        "            print(\"Número da conta ou Senha incorreta(s). Tente novamente.\")\n",
        "            tentativas += 1\n",
        "    if tentativas == 3:\n",
        "        print(\"Você excedeu o número de tentativas. Cartão bloqueado!.\")\n",
        "        conta1[\"status\"] = \"bloqueada\"\n",
        "        print(\"Você excedeu o número de tentativas. Cartão bloqueado!.\")\n",
        "\n",
        "def main():\n",
        "    print(\"Bem-vindo ao sistema de login. Efetue seu login para ter acesso.\")\n",
        "    tentar_login()\n",
        "    print(\"Status da conta:\", conta1[\"status\"])\n",
        "\n",
        "if __name__ == \"__main__\":\n",
        "    main()\n"
      ],
      "metadata": {
        "colab": {
          "base_uri": "https://localhost:8080/"
        },
        "id": "ITG-jOD9RRUP",
        "outputId": "0c1261de-a467-4210-f879-5dc4509a6de2"
      },
      "execution_count": null,
      "outputs": [
        {
          "output_type": "stream",
          "name": "stdout",
          "text": [
            "Bem-vindo ao sistema de login. Efetue seu login para ter acesso.\n",
            "Digite o número da conta: 111\n",
            "Digite a senha: 111\n",
            "Número da conta ou Senha incorreta(s). Tente novamente.\n",
            "Digite o número da conta: 111\n",
            "Digite a senha: 111\n",
            "Número da conta ou Senha incorreta(s). Tente novamente.\n",
            "Digite o número da conta: 122345\n",
            "Digite a senha: 1234\n",
            "Bem-vindo! Seu login foi realizado com êxito!.\n",
            "Status da conta: ativo\n"
          ]
        }
      ]
    },
    {
      "cell_type": "markdown",
      "source": [
        "5. Depois do Código anterior, caso o usuário digite o usuário e senha corretos o programa deve dar a oportunidade do usuário escolher a operação a ser feita: Saque, depósito ou ver saldo,\n",
        "caso escolha saque ==> subtraia o valor do saque do seu saldo,\n",
        "caso escolha depósito ==> some o valor do depósito ao seu saldo,\n",
        "caso escolha saldo ==> mostre o saldo.\n",
        "caso escolha sair ==> sai do programa\n"
      ],
      "metadata": {
        "id": "_CBrcqF1MKv-"
      }
    },
    {
      "cell_type": "code",
      "source": [],
      "metadata": {
        "id": "qOQJMLkSTi6h"
      },
      "execution_count": null,
      "outputs": []
    },
    {
      "cell_type": "markdown",
      "source": [
        "6. Escreva um algoritmo que leia valores inteiros e encontre o maior e o menor deles. Termine a leitura se o usuário digitar zero (0);"
      ],
      "metadata": {
        "id": "OuAL6tvwMSfe"
      }
    },
    {
      "cell_type": "code",
      "source": [
        "num1 = int(input(\"Digite um número: \"))\n",
        "num2 = int(input(\"Digite um número: \"))\n",
        "num3 = int(input(\"Digite um número: \"))\n",
        "num4 = int(input(\"Digite um número: \"))\n",
        "num5 = int(input(\"Digite um número: \"))\n",
        "num6 = int(input(\"Digite um número: \"))\n",
        "num7 = int(input(\"Digite um número: \"))\n",
        "num8 = int(input(\"Digite um número: \"))\n",
        "\n",
        "\n",
        "lista = [num1,num2, num3, num4, num5, num6, num7, num8]\n",
        "\n",
        "maior = max(lista)\n",
        "menor = min(lista)\n",
        "print(\"O menor número é {} e o maior número é {}\".format(menor, maior))"
      ],
      "metadata": {
        "colab": {
          "base_uri": "https://localhost:8080/"
        },
        "id": "BP3t234UdVbv",
        "outputId": "529f6469-34aa-44fd-c134-ce466bc3680f"
      },
      "execution_count": null,
      "outputs": [
        {
          "output_type": "stream",
          "name": "stdout",
          "text": [
            "Digite um número: 1\n",
            "Digite um número: 2\n",
            "Digite um número: 3\n",
            "Digite um número: 4\n",
            "Digite um número: 5\n",
            "Digite um número: 6\n",
            "Digite um número: 10\n",
            "Digite um número: 50\n",
            "O menor número é 1 e o maior número é 50\n"
          ]
        }
      ]
    }
  ]
}